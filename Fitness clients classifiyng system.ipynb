{
 "nbformat": 4,
 "nbformat_minor": 0,
 "metadata": {
  "colab": {
   "provenance": [],
   "toc_visible": true
  },
  "kernelspec": {
   "name": "python3",
   "display_name": "Python 3"
  },
  "language_info": {
   "name": "python"
  }
 },
 "cells": [
  {
   "cell_type": "code",
   "execution_count": null,
   "metadata": {
    "colab": {
     "base_uri": "https://localhost:8080/"
    },
    "id": "eEDdUUjgUgG_",
    "outputId": "c5cdb376-b337-4b8d-87ce-e1c59ef038c0",
    "pycharm": {
     "name": "#%%\n"
    }
   },
   "outputs": [
    {
     "output_type": "stream",
     "name": "stdout",
     "text": [
      "Mounted at /content/drive/\n",
      "20_clubs_all_params_lstm.csv\t   50_clubs_all_params_lstm.csv\n",
      "25_clubs_xgb.csv\t\t   50_clubs_xgb_lstm.csv\n",
      "30_clubs_xgb.csv\t\t   5_clubs_all_params_lstm.csv\n",
      "50_clubs_all_params_full_lstm.csv  all_clubs_xgb.csv\n"
     ]
    }
   ],
   "source": [
    "import xgboost\n",
    "from matplotlib import pyplot as plt\n",
    "from sklearn.model_selection import train_test_split\n",
    "from sklearn.metrics import accuracy_score, PrecisionRecallDisplay\n",
    "from sklearn import preprocessing\n",
    "import pandas as pd\n",
    "import torch\n",
    "import random\n",
    "import numpy as np\n",
    "import tensorflow as tf\n",
    "from sklearn.metrics import accuracy_score\n",
    "from sklearn.metrics import classification_report\n",
    "from sklearn.metrics import confusion_matrix, ConfusionMatrixDisplay\n",
    "from sklearn.metrics import f1_score\n",
    "from torch.autograd import Variable\n",
    "\n",
    "random.seed(0)\n",
    "np.random.seed(0)\n",
    "torch.manual_seed(0)\n",
    "torch.cuda.manual_seed(0)\n",
    "torch.backends.cudnn.deterministic = True"
   ]
  },
  {
   "cell_type": "markdown",
   "source": [
    "# **Загрузка и предобработка данных**"
   ],
   "metadata": {
    "id": "DJTJzgRwVezl",
    "pycharm": {
     "name": "#%% md\n"
    }
   }
  },
  {
   "cell_type": "code",
   "source": [
    "data = pd.read_csv(\"fitness_dataset.csv\")\n",
    "data_clean = data.loc[data[\"extended\"] != 2]\n",
    "data_clean = data_clean.fillna(0)\n",
    "data_sex = pd.get_dummies(data_clean[\"sex\"])\n",
    "data_clean = pd.concat((data_clean, data_sex), axis=1)\n",
    "data_limitations = pd.get_dummies(data_clean[\"contract_limitations\"])\n",
    "data_clean = data_clean.drop([\"sex\"], axis=1)\n",
    "data_clean = data_clean.drop([\"female\"], axis=1)\n",
    "data_clean = data_clean.rename(columns={\"male\": \"sex\"})\n",
    "data_clean = pd.concat((data_clean, data_limitations), axis=1)\n",
    "data_clean = data_clean.drop([\"contract_limitations\"], axis=1)\n",
    "data_clean = data_clean.drop([\"unlimited\"], axis=1)\n",
    "data_clean = data_clean.rename(columns={\"limited\": \"contract_limitations\"})\n",
    "params = data_clean[\n",
    "    [\"contract_duration\", \"is_discounted\", \"contract_limitations\",\n",
    "     \"age\", \"sex\", \"contracts_before\", \"visits_per_month\",\n",
    "     \"v_sum2mdiv\", \"v_sum1mdiv\", \"v_sum2wdiv\", \"v_sum1wdiv\", \"v_sum4mdiv\",\n",
    "     \"dur2mdiv\", \"dur1mdiv\", \"dur2wdiv\", \"dur1wdiv\", \"dur4mdiv\",\n",
    "     \"spend2mdiv\", \"spend1mdiv\", \"spend2wdiv\", \"spend1wdiv\", \"spend4mdiv\"\n",
    "     ]]\n",
    "#params = data_clean[\n",
    "#    [\"contract_duration\", \"is_discounted\", \"contract_limitations\",\n",
    "#     \"age\", \"sex\", \"contracts_before\", \"visits_per_month\",\n",
    "#     \"1\", \"2\", \"3\", \"4\", \"5\", \"6\", \"7\", \"8\", \"9\", \"10\", \"11\", \"12\", \"13\", \"14\",\n",
    "#     \"15\", \"16\", \"17\"\n",
    "#     ]]\n",
    "target = data_clean[[\"extended\"]]\n",
    "X_train, X_test, y_train, y_test = train_test_split(\n",
    "    params,\n",
    "    target,\n",
    "    test_size=0.2,\n",
    "    shuffle=True)\n",
    "\n",
    "print(len(X_train))\n",
    "print(len(X_test))"
   ],
   "metadata": {
    "colab": {
     "base_uri": "https://localhost:8080/"
    },
    "id": "JJJ196xKU15g",
    "outputId": "cb8a6477-8a31-4080-cbca-81f3b79c74ea",
    "pycharm": {
     "name": "#%%\n"
    }
   },
   "execution_count": null,
   "outputs": [
    {
     "output_type": "stream",
     "name": "stdout",
     "text": [
      "221925\n",
      "55482\n"
     ]
    }
   ]
  },
  {
   "cell_type": "markdown",
   "source": [
    "# **XGBOOST**"
   ],
   "metadata": {
    "id": "VGugNPgLVkkb",
    "pycharm": {
     "name": "#%% md\n"
    }
   }
  },
  {
   "cell_type": "markdown",
   "source": [
    "Обучение и результаты"
   ],
   "metadata": {
    "id": "mPwvoiINWmIg",
    "pycharm": {
     "name": "#%% md\n"
    }
   }
  },
  {
   "cell_type": "code",
   "source": [
    "f1_scores = []\n",
    "\n",
    "model = xgboost.XGBClassifier(tree_method=\"hist\", enable_categorical=True)\n",
    "model.fit(X_train, y_train)\n",
    "\n",
    "y_pred = model.predict(X_test)\n",
    "cr = classification_report(y_test, y_pred, output_dict=True)\n",
    "print(classification_report(y_test, y_pred))\n",
    "f1_scores.append(cr['weighted avg']['f1-score'])\n",
    "disp = ConfusionMatrixDisplay(confusion_matrix(y_test, y_pred))\n",
    "disp.plot()\n",
    "# print(model.get_booster().get_score(importance_type='gain'))"
   ],
   "metadata": {
    "colab": {
     "base_uri": "https://localhost:8080/",
     "height": 633
    },
    "id": "9_BVNOHyU7Il",
    "outputId": "9eb67b01-df49-4420-cbee-b059c1adad15",
    "pycharm": {
     "name": "#%%\n"
    }
   },
   "execution_count": null,
   "outputs": [
    {
     "output_type": "stream",
     "name": "stdout",
     "text": [
      "              precision    recall  f1-score   support\n",
      "\n",
      "           0       0.72      0.60      0.66     20334\n",
      "           1       0.79      0.86      0.82     35148\n",
      "\n",
      "    accuracy                           0.77     55482\n",
      "   macro avg       0.75      0.73      0.74     55482\n",
      "weighted avg       0.76      0.77      0.76     55482\n",
      "\n"
     ]
    },
    {
     "output_type": "execute_result",
     "data": {
      "text/plain": [
       "<sklearn.metrics._plot.confusion_matrix.ConfusionMatrixDisplay at 0x7f413c39b1f0>"
      ]
     },
     "metadata": {},
     "execution_count": 3
    },
    {
     "output_type": "display_data",
     "data": {
      "text/plain": [
       "<Figure size 640x480 with 2 Axes>"
      ],
      "image/png": "[encoded data removed]"
     },
     "metadata": {}
    }
   ]
  },
  {
   "cell_type": "markdown",
   "source": [
    "# **Полносвязная нейронная сеть**"
   ],
   "metadata": {
    "id": "YR8grhWwVp7l",
    "pycharm": {
     "name": "#%% md\n"
    }
   }
  },
  {
   "cell_type": "code",
   "source": [
    "X_train = torch.tensor(X_train.values, dtype=torch.float32)\n",
    "X_test = torch.tensor(X_test.values, dtype=torch.float32)\n",
    "y_train = torch.tensor(y_train.values, dtype=torch.float32)\n",
    "y_test = torch.tensor(y_test.values, dtype=torch.float32)\n",
    "\n",
    "device = torch.device('cuda:0'\n",
    "                      if torch.cuda.is_available()\n",
    "                      else 'cpu')"
   ],
   "metadata": {
    "id": "A6xgshnuW92l",
    "pycharm": {
     "name": "#%%\n"
    }
   },
   "execution_count": null,
   "outputs": []
  },
  {
   "cell_type": "markdown",
   "source": [
    "Архитектура сети"
   ],
   "metadata": {
    "id": "YOKPFvJDWdVr",
    "pycharm": {
     "name": "#%% md\n"
    }
   }
  },
  {
   "cell_type": "code",
   "source": [
    "class MyFCNet(torch.nn.Module):\n",
    "    def __init__(self, n_hidden_neurons):\n",
    "        super(MyFCNet, self).__init__()\n",
    "\n",
    "        self.fc1 = torch.nn.Linear(22, n_hidden_neurons)\n",
    "        self.activ1 = torch.nn.ReLU()\n",
    "        self.fc2 = torch.nn.Linear(n_hidden_neurons, n_hidden_neurons)\n",
    "        self.activ2 = torch.nn.ReLU()\n",
    "        self.fc3 = torch.nn.Linear(n_hidden_neurons, 1)\n",
    "        self.sm = torch.nn.Sigmoid()\n",
    "\n",
    "    def forward(self, x):\n",
    "        x = self.fc1(x)\n",
    "        x = self.activ1(x)\n",
    "        x = self.fc2(x)\n",
    "        x = self.activ2(x)\n",
    "        x = self.fc3(x)\n",
    "        x = self.sm(x)\n",
    "        return x"
   ],
   "metadata": {
    "id": "tHOexQdaVD-O",
    "pycharm": {
     "name": "#%%\n"
    }
   },
   "execution_count": null,
   "outputs": []
  },
  {
   "cell_type": "markdown",
   "source": [
    "Обучение"
   ],
   "metadata": {
    "id": "iAtfF_EUWg9i",
    "pycharm": {
     "name": "#%% md\n"
    }
   }
  },
  {
   "cell_type": "code",
   "source": [
    "my_net = MyFCNet(50)\n",
    "\n",
    "loss = torch.nn.BCELoss()\n",
    "\n",
    "optimizer = torch.optim.Adam(my_net.parameters(),\n",
    "                             lr=0.001)\n",
    "batch_size = 10000\n",
    "\n",
    "for epoch in range(1000):\n",
    "    order = np.random.permutation(len(X_train))\n",
    "    for start_index in range(0, len(X_train), batch_size):\n",
    "        optimizer.zero_grad()\n",
    "\n",
    "        batch_indexes = order[start_index:start_index+batch_size]\n",
    "\n",
    "        x_batch = X_train[batch_indexes]\n",
    "        y_batch = y_train[batch_indexes]\n",
    "        preds = my_net(x_batch)\n",
    "        # print(preds)\n",
    "        loss_value = loss(preds, y_batch.reshape(-1,1))\n",
    "        loss_value.backward()\n",
    "\n",
    "        optimizer.step()\n",
    "\n",
    "    if epoch % 100 == 0:\n",
    "        test_preds = my_net(X_test)\n",
    "        print((test_preds.round() == y_test).float().mean())"
   ],
   "metadata": {
    "colab": {
     "base_uri": "https://localhost:8080/"
    },
    "id": "F5vl_QcvVGSF",
    "outputId": "0248ebeb-6d9c-4e6d-a813-5c0426edf000",
    "pycharm": {
     "name": "#%%\n"
    }
   },
   "execution_count": null,
   "outputs": [
    {
     "output_type": "stream",
     "name": "stdout",
     "text": [
      "tensor(0.6608)\n",
      "tensor(0.7395)\n",
      "tensor(0.7442)\n",
      "tensor(0.7471)\n",
      "tensor(0.7508)\n",
      "tensor(0.7532)\n",
      "tensor(0.7538)\n",
      "tensor(0.7542)\n",
      "tensor(0.7559)\n",
      "tensor(0.7513)\n"
     ]
    }
   ]
  },
  {
   "cell_type": "markdown",
   "source": [
    "Результаты"
   ],
   "metadata": {
    "id": "t4fia3yWWjUW",
    "pycharm": {
     "name": "#%% md\n"
    }
   }
  },
  {
   "cell_type": "code",
   "source": [
    "MY_prediction = my_net.forward(X_test)\n",
    "threshold = 0.5\n",
    "res = (MY_prediction >= threshold).float()\n",
    "cr = classification_report(y_test, res, output_dict=True)\n",
    "print(classification_report(y_test, res))\n",
    "f1_scores.append(cr['weighted avg']['f1-score'])\n",
    "disp = ConfusionMatrixDisplay(confusion_matrix(y_test, res))\n",
    "disp.plot()"
   ],
   "metadata": {
    "colab": {
     "base_uri": "https://localhost:8080/",
     "height": 634
    },
    "id": "ebyqnWr-VKt7",
    "outputId": "d899943c-9b5c-499b-e340-5fd6eb0d2464",
    "pycharm": {
     "name": "#%%\n"
    }
   },
   "execution_count": null,
   "outputs": [
    {
     "output_type": "stream",
     "name": "stdout",
     "text": [
      "              precision    recall  f1-score   support\n",
      "\n",
      "         0.0       0.70      0.58      0.64     20334\n",
      "         1.0       0.78      0.86      0.82     35148\n",
      "\n",
      "    accuracy                           0.76     55482\n",
      "   macro avg       0.74      0.72      0.73     55482\n",
      "weighted avg       0.75      0.76      0.75     55482\n",
      "\n"
     ]
    },
    {
     "output_type": "execute_result",
     "data": {
      "text/plain": [
       "<sklearn.metrics._plot.confusion_matrix.ConfusionMatrixDisplay at 0x7f413c398d00>"
      ]
     },
     "metadata": {},
     "execution_count": 7
    },
    {
     "output_type": "display_data",
     "data": {
      "text/plain": [
       "<Figure size 640x480 with 2 Axes>"
      ],
      "image/png": "[encoded data removed]"
     },
     "metadata": {}
    }
   ]
  },
  {
   "cell_type": "markdown",
   "source": [
    "# **Нейронная сеть с LSTM слоем**"
   ],
   "metadata": {
    "id": "WTYFe2gWVxIH",
    "pycharm": {
     "name": "#%% md\n"
    }
   }
  },
  {
   "cell_type": "markdown",
   "source": [
    "Добавлеие понедельных данных о посещениях"
   ],
   "metadata": {
    "id": "AB8R5-zkWJQb",
    "pycharm": {
     "name": "#%% md\n"
    }
   }
  },
  {
   "cell_type": "code",
   "source": [
    "params = data_clean[\n",
    "    [\"contract_duration\", \"is_discounted\", \"contract_limitations\",\n",
    "     \"age\", \"sex\", \"contracts_before\", \"visits_per_month\",\n",
    "     \"v_sum2mdiv\", \"v_sum1mdiv\", \"v_sum2wdiv\", \"v_sum1wdiv\", \"v_sum4mdiv\",\n",
    "     \"dur2mdiv\", \"dur1mdiv\", \"dur2wdiv\", \"dur1wdiv\", \"dur4mdiv\",\n",
    "     \"spend2mdiv\", \"spend1mdiv\", \"spend2wdiv\", \"spend1wdiv\", \"spend4mdiv\",\n",
    "     \"1\", \"2\", \"3\", \"4\", \"5\", \"6\", \"7\", \"8\", \"9\", \"10\", \"11\", \"12\", \"13\", \"14\",\n",
    "     \"15\", \"16\", \"17\"\n",
    "     ]]\n",
    "target = data_clean[[\"extended\"]]\n",
    "X_train, X_test, y_train, y_test = train_test_split(\n",
    "    params,\n",
    "    target,\n",
    "    test_size=0.2,\n",
    "    shuffle=True)\n",
    "\n",
    "X_train = torch.tensor(X_train.values, dtype=torch.float32)\n",
    "X_test = torch.tensor(X_test.values, dtype=torch.float32)\n",
    "y_train = torch.tensor(y_train.values, dtype=torch.float32)\n",
    "y_test = torch.tensor(y_test.values, dtype=torch.float32)"
   ],
   "metadata": {
    "id": "qmZU2MoEWBsg",
    "pycharm": {
     "name": "#%%\n"
    }
   },
   "execution_count": null,
   "outputs": []
  },
  {
   "cell_type": "markdown",
   "source": [
    "Архитектура сети"
   ],
   "metadata": {
    "id": "4HVJtJ53WOhz",
    "pycharm": {
     "name": "#%% md\n"
    }
   }
  },
  {
   "cell_type": "code",
   "source": [
    "class MyLSTMNet(torch.nn.Module):\n",
    "    def __init__(self, n_hidden_neurons, lstm_hidden, num_lstm_layers):\n",
    "        super(MyLSTMNet, self).__init__()\n",
    "        self.n_hidden_neurons = n_hidden_neurons\n",
    "        self.lstm_hidden = lstm_hidden\n",
    "        self.num_lstm_layers = num_lstm_layers\n",
    "\n",
    "        self.lstm_visits = torch.nn.LSTM(input_size=17, hidden_size=lstm_hidden,\n",
    "                          num_layers=num_lstm_layers)\n",
    "\n",
    "        self.activ_lstm_vis = torch.nn.ReLU()\n",
    "\n",
    "        self.fc1 = torch.nn.Linear(22 + lstm_hidden, n_hidden_neurons)\n",
    "        self.activ1 = torch.nn.ReLU()\n",
    "\n",
    "        self.fc2 = torch.nn.Linear(n_hidden_neurons, n_hidden_neurons)\n",
    "        self.activ2 = torch.nn.ReLU()\n",
    "\n",
    "        self.fc3 = torch.nn.Linear(n_hidden_neurons, 1)\n",
    "        self.sm = torch.nn.Sigmoid()\n",
    "\n",
    "\n",
    "\n",
    "    def forward(self, x):\n",
    "        x_vis = Variable(x[:, 22:])\n",
    "        x_vis_reshape = torch.reshape(x_vis, (1, x_vis.shape[0], x_vis.shape[1]))\n",
    "        self.lstm_visits.flatten_parameters()\n",
    "        output, (hn_vis, cn_vis) = self.lstm_visits(x_vis_reshape) #lstm with input, hidden, and internal state\n",
    "        hn_vis = hn_vis.view(-1, self.lstm_hidden) #reshaping the data for Dense layer next\n",
    "        out_lstm_vis = self.activ_lstm_vis(hn_vis)\n",
    "\n",
    "        #print(out_lstm_vis.shape)\n",
    "        #print(out_fc1.shape)\n",
    "        concat = torch.cat((out_lstm_vis, x[:, :22]), dim = -1)\n",
    "\n",
    "        out = self.activ1(self.fc1(concat))\n",
    "        out = self.activ2(self.fc2(out))\n",
    "        out = self.fc3(out)\n",
    "        return self.sm(out)"
   ],
   "metadata": {
    "id": "KCLTF_AgVNox",
    "pycharm": {
     "name": "#%%\n"
    }
   },
   "execution_count": null,
   "outputs": []
  },
  {
   "cell_type": "markdown",
   "source": [
    "Обучение"
   ],
   "metadata": {
    "id": "1SnmvXVPWS1F",
    "pycharm": {
     "name": "#%% md\n"
    }
   }
  },
  {
   "cell_type": "code",
   "source": [
    "my_net = MyLSTMNet(50, 4, 1)\n",
    "\n",
    "loss = torch.nn.BCELoss()\n",
    "\n",
    "optimizer = torch.optim.Adam(my_net.parameters(),\n",
    "                             lr=0.001)\n",
    "batch_size = 10000\n",
    "\n",
    "for epoch in range(1000):\n",
    "    order = np.random.permutation(len(X_train))\n",
    "    for start_index in range(0, len(X_train), batch_size):\n",
    "        optimizer.zero_grad()\n",
    "\n",
    "        batch_indexes = order[start_index:start_index+batch_size]\n",
    "\n",
    "        x_batch = X_train[batch_indexes]\n",
    "        y_batch = y_train[batch_indexes]\n",
    "        preds = my_net.forward(x_batch)\n",
    "        # print(preds)\n",
    "        loss_value = loss(preds, y_batch.reshape(-1,1))\n",
    "        loss_value.backward()\n",
    "\n",
    "        optimizer.step()\n",
    "\n",
    "    if epoch % 100 == 0:\n",
    "        test_preds = my_net(X_test)\n",
    "        print((test_preds.round() == y_test).float().mean())"
   ],
   "metadata": {
    "colab": {
     "base_uri": "https://localhost:8080/"
    },
    "id": "iR6qAQUEVPBl",
    "outputId": "4ea14b27-27f4-4ef9-b1b1-bb00c0427bf5",
    "pycharm": {
     "name": "#%%\n"
    }
   },
   "execution_count": null,
   "outputs": [
    {
     "output_type": "stream",
     "name": "stdout",
     "text": [
      "tensor(0.6887)\n",
      "tensor(0.7644)\n",
      "tensor(0.7677)\n",
      "tensor(0.7728)\n",
      "tensor(0.7759)\n",
      "tensor(0.7755)\n",
      "tensor(0.7790)\n",
      "tensor(0.7780)\n",
      "tensor(0.7784)\n",
      "tensor(0.7806)\n"
     ]
    }
   ]
  },
  {
   "cell_type": "markdown",
   "source": [
    "Результаты"
   ],
   "metadata": {
    "id": "2-7053FIWXCI",
    "pycharm": {
     "name": "#%% md\n"
    }
   }
  },
  {
   "cell_type": "code",
   "source": [
    "MY_prediction = my_net.forward(X_test)\n",
    "threshold = 0.5\n",
    "res = (MY_prediction >= threshold).float()\n",
    "print(classification_report(y_test, res))\n",
    "cr = classification_report(y_test, res, output_dict=True)\n",
    "f1_scores.append(cr['weighted avg']['f1-score'])\n",
    "disp = ConfusionMatrixDisplay(confusion_matrix(y_test, res))\n",
    "disp.plot()"
   ],
   "metadata": {
    "colab": {
     "base_uri": "https://localhost:8080/",
     "height": 633
    },
    "id": "hBwJ8wlVVQaU",
    "outputId": "c3e31999-2038-4783-8d3f-fb66f7e811b7",
    "pycharm": {
     "name": "#%%\n"
    }
   },
   "execution_count": null,
   "outputs": [
    {
     "output_type": "stream",
     "name": "stdout",
     "text": [
      "              precision    recall  f1-score   support\n",
      "\n",
      "         0.0       0.73      0.64      0.68     20443\n",
      "         1.0       0.80      0.86      0.83     35039\n",
      "\n",
      "    accuracy                           0.78     55482\n",
      "   macro avg       0.77      0.75      0.76     55482\n",
      "weighted avg       0.78      0.78      0.78     55482\n",
      "\n"
     ]
    },
    {
     "output_type": "execute_result",
     "data": {
      "text/plain": [
       "<sklearn.metrics._plot.confusion_matrix.ConfusionMatrixDisplay at 0x7f413b171db0>"
      ]
     },
     "metadata": {},
     "execution_count": 11
    },
    {
     "output_type": "display_data",
     "data": {
      "text/plain": [
       "<Figure size 640x480 with 2 Axes>"
      ],
      "image/png": "[encoded data removed]"
     },
     "metadata": {}
    }
   ]
  },
  {
   "cell_type": "markdown",
   "source": [
    "# **Сравнение моделей**"
   ],
   "metadata": {
    "id": "sB6YfYdTbmcZ",
    "pycharm": {
     "name": "#%% md\n"
    }
   }
  },
  {
   "cell_type": "code",
   "source": [
    "import matplotlib.pyplot as plt\n",
    "\n",
    "plt.plot([\"XBGClassifier\", \"Fully Connected NN\", \"FC + LSTM NN\"], f1_scores)\n",
    "plt.plot([\"XBGClassifier\", \"Fully Connected NN\", \"FC + LSTM NN\"], f1_scores, 'or')\n",
    "plt.xticks(rotation=90)\n",
    "plt.title('f1-scores')\n",
    "plt.show()"
   ],
   "metadata": {
    "colab": {
     "base_uri": "https://localhost:8080/",
     "height": 574
    },
    "id": "hyoSZvGPbpIS",
    "outputId": "7e274418-3078-4011-b892-c91978a4b843",
    "pycharm": {
     "name": "#%%\n"
    }
   },
   "execution_count": null,
   "outputs": [
    {
     "output_type": "display_data",
     "data": {
      "text/plain": [
       "<Figure size 640x480 with 1 Axes>"
      ],
      "image/png": "[encoded data removed]"
     },
     "metadata": {}
    }
   ]
  }
 ]
}